{
  "cells": [
    {
      "cell_type": "markdown",
      "metadata": {
        "id": "view-in-github",
        "colab_type": "text"
      },
      "source": [
        "<a href=\"https://colab.research.google.com/github/dimasnamikaze2/Mohammad-Bagus-Dimas-Prayugo/blob/main/PKL.ipynb\" target=\"_parent\"><img src=\"https://colab.research.google.com/assets/colab-badge.svg\" alt=\"Open In Colab\"/></a>"
      ]
    },
    {
      "cell_type": "code",
      "source": [
        "import numpy as np\n",
        "import pandas as pd\n",
        "from sklearn.model_selection import train_test_split\n",
        "from sklearn.preprocessing import OneHotEncoder\n",
        "from sklearn.preprocessing import MinMaxScaler"
      ],
      "metadata": {
        "id": "wUy6pJI6HYkA"
      },
      "execution_count": 1,
      "outputs": []
    },
    {
      "cell_type": "code",
      "source": [
        "train = pd.read_excel('train.xlsx')\n",
        "test = pd.read_excel('test.xlsx')"
      ],
      "metadata": {
        "id": "mguOM8duI3LK"
      },
      "execution_count": 3,
      "outputs": []
    },
    {
      "cell_type": "code",
      "source": [
        "onehotencoder = OneHotEncoder(categories='auto')\n",
        "scaler = MinMaxScaler()\n",
        "\n",
        "x_train = scaler.fit_transform(train.values[:,1:])\n",
        "y_train = onehotencoder.fit_transform(train.values[:,:1]).toarray()\n",
        "\n",
        "x_test = scaler.fit_transform(test.values[:,1:])\n",
        "y_test = onehotencoder.fit_transform(test.values[:,:1]).toarray()"
      ],
      "metadata": {
        "id": "PQvzG58NLrD0"
      },
      "execution_count": 6,
      "outputs": []
    },
    {
      "cell_type": "code",
      "source": [
        "input_size = x_train.shape[1]"
      ],
      "metadata": {
        "id": "oaHwn7IxM4Gk"
      },
      "execution_count": 7,
      "outputs": []
    },
    {
      "cell_type": "code",
      "source": [
        "hidden_size = 1000"
      ],
      "metadata": {
        "id": "nA2Yhd7ONi32"
      },
      "execution_count": 8,
      "outputs": []
    },
    {
      "cell_type": "code",
      "source": [
        "input_weights = np.random.normal(size=[input_size,hidden_size])\n",
        "bias = np.random.normal(size=[hidden_size])"
      ],
      "metadata": {
        "id": "4BczUSwQNnZA"
      },
      "execution_count": null,
      "outputs": []
    }
  ],
  "metadata": {
    "colab": {
      "collapsed_sections": [],
      "name": "Selamat Datang di Colaboratory",
      "provenance": [],
      "include_colab_link": true
    },
    "kernelspec": {
      "display_name": "Python 3",
      "name": "python3"
    }
  },
  "nbformat": 4,
  "nbformat_minor": 0
}